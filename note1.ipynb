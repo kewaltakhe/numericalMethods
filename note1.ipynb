{
 "cells": [
  {
   "cell_type": "code",
   "execution_count": 15,
   "metadata": {},
   "outputs": [],
   "source": [
    "from collections import OrderedDict\n",
    "import sympy \n",
    "from sympy.parsing.sympy_parser import parse_expr\n"
   ]
  },
  {
   "cell_type": "markdown",
   "metadata": {},
   "source": [
    "## PART-1"
   ]
  },
  {
   "cell_type": "code",
   "execution_count": 16,
   "metadata": {
    "scrolled": true
   },
   "outputs": [],
   "source": [
    "def bisection_method(func,interval,iterations=5):\n",
    "    a,b=interval\n",
    "    if(func.evaluate(a)*func.evaluate(b)<0):\n",
    "        if(func.evaluate(a)>0):\n",
    "            pl=a\n",
    "            nl=a\n",
    "        else:\n",
    "            pl=b\n",
    "            nl=a\n",
    "        \n",
    "        for ite in range(iterations):\n",
    "            print(f'iteration %d: \\nvalue of pl=%f \\nvalue of nl=%f'%(ite+1,pl,nl))\n",
    "            x=float(pl+nl)/2.0\n",
    "            value=func.evaluate(x)\n",
    "            if(value==0):\n",
    "                root=0\n",
    "                break\n",
    "            else:\n",
    "                if(value<0):\n",
    "                    nl=x\n",
    "                else:\n",
    "                    pl=x\n",
    "            print('x = %f'%x)\n",
    "            print('\\n')\n",
    "        root=x\n",
    "        print('root is %f'%root)\n",
    "        print('\\n')\n",
    "        return root\n",
    "        \n",
    "    else:\n",
    "        raise Exception('working condition of bisection method not satified.')\n",
    "        \n",
    "def regula_falsi_method(func,interval,iterations=5):\n",
    "    a,b=interval\n",
    "    if(func.evaluate(a)*func.evaluate(b)<0):\n",
    "        if(func.evaluate(a)>0):\n",
    "            pl=a\n",
    "            nl=a\n",
    "        else:\n",
    "            pl=b\n",
    "            nl=a\n",
    "            \n",
    "        for ite in range(iterations):\n",
    "            print(f'iteration %d: \\nvalue of pl=%f \\nvalue of nl=%f'%(ite+1,pl,nl))\n",
    "            x=nl-(func.evaluate(nl)*(pl-nl))/(func.evaluate(pl)-func.evaluate(nl))\n",
    "            if func.evaluate(x)<0:\n",
    "                nl=x\n",
    "            else:\n",
    "                pl=x\n",
    "            print('x = %f'%x)\n",
    "            print('\\n')\n",
    "            \n",
    "        root=x\n",
    "        print('root is %f'%root)\n",
    "        print('\\n')\n",
    "        return root\n",
    "    else:\n",
    "        raise Exception('working condition of bisection method not satified.')\n",
    "        \n",
    "def secant_method(func,initials,iterations=5):\n",
    "    x0,x1=initials\n",
    "    print(\"Second Method\")\n",
    "    for ite in range(iterations):\n",
    "        print(f'iteration %d: \\nvalue of x0=%f \\nvalue of x1=%f'%(ite+1,x0,x1))\n",
    "        x=x1-(func.evaluate(x1)*(x1-x0))/(func.evaluate(x1)-func.evaluate(x0))\n",
    "        x0=x1\n",
    "        x1=x\n",
    "        print('x = %f'%x)\n",
    "        print('\\n')\n",
    "    \n",
    "    root=x\n",
    "    print('root is %f'%root)\n",
    "    print('\\n')\n",
    "    return root\n",
    "        \n",
    "def newton_raphson_method_v1(func,initial_approx,iterations=5):\n",
    "    x0=initial_approx\n",
    "    x=None\n",
    "    for ite in range(iterations):\n",
    "        print('iteration %d: \\nvalue of x%d=%f'%(ite+1,ite,x0) )\n",
    "        x=x0-func.evaluate(x0)/(func.diff(times=1,subs=x0))\n",
    "        print('value of x%d=%f'%(ite+1,x))\n",
    "        x0=x\n",
    "        print('\\n')\n",
    "        \n",
    "    root=x\n",
    "    print('root is %f'%root)\n",
    "    print('\\n')\n",
    "    return root\n",
    "\n",
    "class OneUnknownFunc:\n",
    "    \n",
    "    def __init__(self,definition):\n",
    "        if isinstance(definition,str):\n",
    "            self.definition=parse_expr(definition)\n",
    "        else:   \n",
    "            self.definition=definition\n",
    "        self.var=list(self.definition.free_symbols)[0]\n",
    "\n",
    "    def evaluate(self,subs):\n",
    "        result=self.definition.subs(self.var,subs)\n",
    "        return result\n",
    "    \n",
    "    def diff(self,times=1,subs=None):\n",
    "        deriv=OneUnknownFunc(sympy.diff(self.definition,self.var,times))\n",
    "        if subs==None:\n",
    "            return deriv\n",
    "        else:\n",
    "            return deriv.evaluate(subs)\n",
    "    \n",
    "    def bisection_meth(self,interval,iterations=5):\n",
    "        root=bisection_method(self,interval,iterations)\n",
    "        return root\n",
    "    \n",
    "    def regula_falsi_meth(self,interval,iterations=5):\n",
    "        root=regula_falsi_method(self,interval,iterations)\n",
    "        return root\n",
    "    \n",
    "    def secant_meth(self,initials,iterations=5):\n",
    "        root=secant_method(self,initials,iterations)\n",
    "        return root\n",
    "    \n",
    "    def newton_raphson_meth_v1(self,initial_approx,iterations=5):\n",
    "        root=newton_raphson_method_v1(self,initial_approx,iterations)\n",
    "        return root\n",
    "    "
   ]
  },
  {
   "cell_type": "markdown",
   "metadata": {},
   "source": [
    "## PART-1: How to use the methods"
   ]
  },
  {
   "cell_type": "code",
   "execution_count": 17,
   "metadata": {},
   "outputs": [
    {
     "name": "stdout",
     "output_type": "stream",
     "text": [
      "iteration 1: \n",
      "value of x0=0.600000\n",
      "value of x1=0.887641\n",
      "\n",
      "\n",
      "iteration 2: \n",
      "value of x1=0.887641\n",
      "value of x2=0.879250\n",
      "\n",
      "\n",
      "iteration 3: \n",
      "value of x2=0.879250\n",
      "value of x3=0.879244\n",
      "\n",
      "\n",
      "iteration 4: \n",
      "value of x3=0.879244\n",
      "value of x4=0.879244\n",
      "\n",
      "\n",
      "iteration 5: \n",
      "value of x4=0.879244\n",
      "value of x5=0.879244\n",
      "\n",
      "\n",
      "root is 0.879244\n",
      "\n",
      "\n"
     ]
    },
    {
     "data": {
      "text/latex": [
       "$\\displaystyle 0.879244435158154$"
      ],
      "text/plain": [
       "0.879244435158154"
      ]
     },
     "execution_count": 17,
     "metadata": {},
     "output_type": "execute_result"
    }
   ],
   "source": [
    "#validation: OneUnknownFunc\n",
    "#func1=OneUnknownFunc('x**3-4*x-8')\n",
    "#func1.bisection_meth((2,3),4)\n",
    "\n",
    "#func2=OneUnknownFunc('x**3-9*x+2')\n",
    "#func2.regula_falsi_meth((2,3),5)\n",
    "\n",
    "#func3=OneUnknownFunc('x**3+x**2+x+6')\n",
    "#func3.secant_meth((-3,-1))\n",
    "\n",
    "func4=OneUnknownFunc('3*x-cos(x)-2')\n",
    "func4.newton_raphson_meth_v1(0.6)"
   ]
  },
  {
   "cell_type": "markdown",
   "metadata": {},
   "source": [
    "## PART-2"
   ]
  },
  {
   "cell_type": "code",
   "execution_count": 18,
   "metadata": {},
   "outputs": [],
   "source": [
    "class MultipleUnknownFunc:\n",
    "    def __init__(self, definition):\n",
    "        if isinstance(definition,str):\n",
    "            self.definition=parse_expr(definition)\n",
    "        else:\n",
    "            self.definition=definition\n",
    "        self.variables=list(self.definition.free_symbols)\n",
    "        \n",
    "    def get_definition(self):\n",
    "        return self.definition\n",
    "    \n",
    "    def evaluate(self,values):\n",
    "        #values is a dictionary with variables (either valid symbols or string) as keys and values as values\n",
    "        return self.definition.subs(values)\n",
    "    \n",
    "    def diff(self,*args,subs=None):\n",
    "        deriv=MultipleUnknownFunc(sympy.diff(self.definition,*args))\n",
    "        if(subs==None):\n",
    "            return deriv\n",
    "        else:\n",
    "            return deriv.evaluate(subs)\n",
    "        \n",
    "    "
   ]
  },
  {
   "cell_type": "code",
   "execution_count": 19,
   "metadata": {},
   "outputs": [],
   "source": [
    "class SystemOfEquations:\n",
    "    def __init__(self,dim,var_list,definitions):\n",
    "        self.dim=dim\n",
    "        self.var_list=var_list\n",
    "        self.functions=[]\n",
    "        self.func_definitions_sympy=[]\n",
    "        for f in definitions:\n",
    "            if isinstance(f,str):\n",
    "                sympy_ex=parse_expr(f)\n",
    "            else:\n",
    "                sympy_ex=f\n",
    "            self.func_definitions_sympy.append(sympy_ex)\n",
    "            self.functions.append(MultipleUnknownFunc(sympy_ex))\n",
    "        \n",
    "    def evaluate_the_functions(self,values):\n",
    "        result=[]\n",
    "        for f in self.functions:\n",
    "            #values is a dictionary with variables (either valid symbols or string) as keys and values as values\n",
    "            result.append(f.evaluate(values))\n",
    "        return result\n",
    "\n",
    "    def get_J(self,subs=None):\n",
    "        list2=[]\n",
    "        for f in self.functions:\n",
    "            list1=[]\n",
    "            for var in self.var_list:\n",
    "                result=f.diff(var)\n",
    "                list1.append(result.get_definition())\n",
    "            list2.append(list1)\n",
    "        if subs==None:\n",
    "            return sympy.Matrix(list2)\n",
    "        else:\n",
    "            return sympy.Matrix(list2).subs(subs)\n",
    "    \n",
    "    def get_J_inv(self,subs=None):\n",
    "        if subs==None:\n",
    "            return self.get_J().inv()\n",
    "        else:\n",
    "            return self.get_J().inv().subs(subs)\n",
    "        \n",
    "    def get_F(self,subs=None):\n",
    "        if subs==None:\n",
    "            return sympy.Matrix(self.func_definitions_sympy)\n",
    "        else:\n",
    "            return sympy.Matrix(self.func_definitions_sympy).subs(subs)\n",
    "        \n",
    "    def newton_raphson_meth(self,initial_approx,iterations=5):\n",
    "        #initial_approx is a list with variable-value pair tuples. It is use to create an OrderedDict,which has the same name.\n",
    "        initial_approx=OrderedDict(initial_approx)\n",
    "        initial_approx_mat=sympy.Matrix(list(initial_approx.values()))\n",
    "        for ite in range(iterations):\n",
    "            print(\"iteration %d:\"%(ite+1))\n",
    "            print(\"X%d : \"%(ite),initial_approx_mat)\n",
    "            solution = initial_approx_mat - self.get_J_inv(subs=initial_approx)*self.get_F(subs=initial_approx)\n",
    "            initial_approx_mat=solution\n",
    "            # update the initial_approx dictionary\n",
    "            for k,nval in zip(initial_approx,list(solution)):\n",
    "                initial_approx[k]=nval\n",
    "                \n",
    "            \n",
    "        return solution\n",
    "            \n",
    "        \n",
    "    \n",
    "    "
   ]
  },
  {
   "cell_type": "markdown",
   "metadata": {},
   "source": [
    "## PART-2: How to use the methods"
   ]
  },
  {
   "cell_type": "code",
   "execution_count": 20,
   "metadata": {
    "scrolled": false
   },
   "outputs": [
    {
     "name": "stdout",
     "output_type": "stream",
     "text": [
      "iteration 1:\n",
      "X0 :  Matrix([[4.91724000000000], [-0.385780000000000]])\n",
      "iteration 2:\n",
      "X1 :  Matrix([[3.75018093977353], [1.44651008595981]])\n",
      "iteration 3:\n",
      "X2 :  Matrix([[3.20687242215275], [1.78971641724617]])\n",
      "iteration 4:\n",
      "X3 :  Matrix([[3.03056617394911], [1.96946277746900]])\n",
      "iteration 5:\n",
      "X4 :  Matrix([[3.00087984975417], [1.99912012087948]])\n"
     ]
    },
    {
     "data": {
      "text/latex": [
       "$\\displaystyle \\left[\\begin{matrix}3.00000077279568\\\\1.99999922720516\\end{matrix}\\right]$"
      ],
      "text/plain": [
       "Matrix([\n",
       "[3.00000077279568],\n",
       "[1.99999922720516]])"
      ]
     },
     "execution_count": 20,
     "metadata": {},
     "output_type": "execute_result"
    }
   ],
   "source": [
    "functions=['x**2+x*y+y**2-19','x**3+y**3-35']\n",
    "sys1=SystemOfEquations(2,['x','y'],functions)\n",
    "initial_approx=[('x',4.91724),('y',-0.38578)]\n",
    "sys1.newton_raphson_meth(initial_approx)"
   ]
  },
  {
   "cell_type": "markdown",
   "metadata": {},
   "source": [
    "## PART-3"
   ]
  },
  {
   "cell_type": "code",
   "execution_count": 21,
   "metadata": {},
   "outputs": [],
   "source": [
    "import numpy as np\n",
    "class SystemOfLinearEq:\n",
    "    def __init__(self,A,B):\n",
    "        self.A=A\n",
    "        self.B=B\n",
    "        self.size=len(self. B)\n",
    "        \n",
    "    def summ(self,i,initial_vals):\n",
    "        summ=0\n",
    "        for x in range(1,self.size):\n",
    "            j=(i+x)%self.size\n",
    "            summ+=self.A[i][j]*initial_vals[j]\n",
    "            #print(\"a[i][j]=\",self.A[i][j],\"init[j]=\",initial_vals[j],\"i=\",i,\"j=\",j,\"x=\",x)\n",
    "        return summ    \n",
    "            \n",
    "        \n",
    "    def gauss_jacobi_elementwise_meth(self,initial_vals,iterations=5):\n",
    "        initial_vals_list=initial_vals.copy()\n",
    "        for ite in range(iterations):\n",
    "            approx=[]\n",
    "            for i in range(self.size):\n",
    "                x=(self.B[i]-(self.summ(i,initial_vals_list)))/self.A[i][i]\n",
    "                approx.append(x)\n",
    "            initial_vals_list=approx.copy()\n",
    "            print(\"Iteration {0} : Xapprox={1}\".format(ite+1,initial_vals_list))\n",
    "            print(\"\\n\")\n",
    "                \n",
    "    def gauss_siedel_matrix_meth(self,initial_vals,iterations=5):\n",
    "        X=np.array(initial_vals)\n",
    "        A=np.array(self.A)\n",
    "        Lx=np.tril(A,0)\n",
    "        B=np.array(self.B)\n",
    "        U=np.triu(A,1)\n",
    "        \n",
    "        for ite in range(iterations):\n",
    "            #print(\"X\",X,\"\\nU\",U)\n",
    "            ux=np.matmul(U,X)\n",
    "            #print(\"ux\",ux)\n",
    "            Xapp=np.matmul(np.linalg.inv(Lx),B-ux)\n",
    "            #print(\"xapp\",Xapp)\n",
    "            X=Xapp.copy()\n",
    "            print(\"Iteration {0} : Xapprox={1}\".format(ite+1,list(X)))\n",
    "            print(\"\\n\")\n",
    "            "
   ]
  },
  {
   "cell_type": "markdown",
   "metadata": {},
   "source": [
    "## PART-3: How to use the methods"
   ]
  },
  {
   "cell_type": "code",
   "execution_count": 22,
   "metadata": {},
   "outputs": [
    {
     "name": "stdout",
     "output_type": "stream",
     "text": [
      "Iteration 1 : Xapprox=[0.75, 1.0833333333333333, 1.5208333333333333]\n",
      "\n",
      "\n",
      "Iteration 2 : Xapprox=[0.4791666666666667, 1.6805555555555554, 1.6701388888888888]\n",
      "\n",
      "\n",
      "Iteration 3 : Xapprox=[0.32986111111111116, 1.7800925925925926, 1.6950231481481481]\n",
      "\n",
      "\n",
      "Iteration 4 : Xapprox=[0.30497685185185186, 1.796682098765432, 1.699170524691358]\n",
      "\n",
      "\n"
     ]
    }
   ],
   "source": [
    "s1=SystemOfLinearEq([[4,1,0],[1,3,-1],[0,-1,4]],[3,4,5])\n",
    "s1.gauss_siedel_matrix_meth([0,0,0],4)"
   ]
  },
  {
   "cell_type": "code",
   "execution_count": null,
   "metadata": {},
   "outputs": [],
   "source": [
    "s1=SystemOfLinearEq([[7,2,1],[-3,8,3],[1,1,-6]],[10,-14,-33])\n",
    "s1.gauss_siedel_matrix_meth([1,1,1],4)\n",
    "\n",
    "s1=SystemOfLinearEq([[4,1,2],[3,4,1],[1,2,3]],[4,7,3])\n",
    "s1.gauss_siedel_matrix_meth([1,1,1],4)\n",
    "\n",
    "s1=SystemOfLinearEq([[10,-2,1],[-2,10,-2],[-2,-5,10]],[9,12,18])\n",
    "s1.gauss_siedel_matrix_meth([0.5,0.5,0.5],4)\n",
    "\n",
    "s1=SystemOfLinearEq([[8,1,-1],[-1,7,-2],[2,1,9]],[8,4,12])\n",
    "s1.gauss_siedel_matrix_meth([0,0,0],4)\n",
    "\n",
    "s1=SystemOfLinearEq([[5,-1,0],[-1,5,-1],[0,-1,5]],[9,4,-6])\n",
    "s1.gauss_siedel_matrix_meth([0,0,0],4)\n",
    "\n",
    "s1=SystemOfLinearEq([[4,1,0],[1,3,-1],[1,0,2]],[3,-4,5])\n",
    "s1.gauss_siedel_matrix_meth([0,0,0],4)"
   ]
  },
  {
   "cell_type": "code",
   "execution_count": null,
   "metadata": {},
   "outputs": [],
   "source": []
  }
 ],
 "metadata": {
  "kernelspec": {
   "display_name": "Python 3",
   "language": "python",
   "name": "python3"
  },
  "language_info": {
   "codemirror_mode": {
    "name": "ipython",
    "version": 3
   },
   "file_extension": ".py",
   "mimetype": "text/x-python",
   "name": "python",
   "nbconvert_exporter": "python",
   "pygments_lexer": "ipython3",
   "version": "3.8.3"
  }
 },
 "nbformat": 4,
 "nbformat_minor": 4
}
